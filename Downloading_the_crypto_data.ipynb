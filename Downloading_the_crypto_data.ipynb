{
  "cells": [
    {
      "cell_type": "code",
      "execution_count": 1,
      "metadata": {
        "id": "BvVTUB9u3_hZ"
      },
      "outputs": [],
      "source": [
        "#installing the ccxt library \n",
        "\n",
        "%%capture\n",
        "!pip install ccxt\n",
        "!pip install tqdm"
      ]
    },
    {
      "cell_type": "code",
      "execution_count": 44,
      "metadata": {
        "id": "jWdjQNKk_OHh"
      },
      "outputs": [],
      "source": [
        "#Importin necessary libraries\n",
        "import ccxt\n",
        "import tqdm\n",
        "from tqdm import tqdm\n",
        "import pandas as pd"
      ]
    },
    {
      "cell_type": "code",
      "execution_count": 3,
      "metadata": {
        "colab": {
          "base_uri": "https://localhost:8080/"
        },
        "id": "VrQnjBJf-ln1",
        "outputId": "772f4347-6a6b-4ba6-9c16-981db36eaf13"
      },
      "outputs": [
        {
          "output_type": "execute_result",
          "data": {
            "text/plain": [
              "['AccountNotEnabled',\n",
              " 'AccountSuspended',\n",
              " 'AddressPending',\n",
              " 'ArgumentsRequired',\n",
              " 'AuthenticationError',\n",
              " 'BadRequest',\n",
              " 'BadResponse',\n",
              " 'BadSymbol',\n",
              " 'BaseError',\n",
              " 'CancelPending']"
            ]
          },
          "metadata": {},
          "execution_count": 3
        }
      ],
      "source": [
        "# Printing list of functions are avaiable in the ccxt library\n",
        "dir = dir(ccxt)\n",
        "# printing 1st 10 functions \n",
        "dir[:10]"
      ]
    },
    {
      "cell_type": "markdown",
      "metadata": {
        "id": "_zDTuSTWIHNF"
      },
      "source": [
        "# **What are Cryptocurrency Exchanges?**\n",
        "\n",
        "In order to start buying and selling cryptocurrencies and other digital assets, the most common way is to transact with Crypto Exchanges. Cryptocurrency exchanges are privately-owned platforms that facilitate the trading of cryptocurrencies for other crypto assets, including digital and fiat currencies and NFTs."
      ]
    },
    {
      "cell_type": "code",
      "execution_count": 4,
      "metadata": {
        "colab": {
          "base_uri": "https://localhost:8080/"
        },
        "id": "LS8DDk8R-lqJ",
        "outputId": "3ba99f0b-a04c-4da9-e3e2-2ce2ac97881b"
      },
      "outputs": [
        {
          "output_type": "execute_result",
          "data": {
            "text/plain": [
              "['aax',\n",
              " 'alpaca',\n",
              " 'ascendex',\n",
              " 'bequant',\n",
              " 'bibox',\n",
              " 'bigone',\n",
              " 'binance',\n",
              " 'binancecoinm',\n",
              " 'binanceus',\n",
              " 'binanceusdm']"
            ]
          },
          "metadata": {},
          "execution_count": 4
        }
      ],
      "source": [
        "# Printing types of exchanges support in ccxt.\n",
        "exchanges = ccxt.exchanges\n",
        "#printing first 10 exchanges\n",
        "exchanges[:10]"
      ]
    },
    {
      "cell_type": "markdown",
      "metadata": {
        "id": "l3OHJW2eK9jq"
      },
      "source": [
        "# **What is a Binance exchange?**\n",
        "\n",
        "Binance is an online exchange where users can trade cryptocurrencies. It supports most commonly traded cryptocurrencies. Binance provides a crypto wallet for traders to store their electronic funds. The exchange also has supporting services for users to earn interest or transact using cryptocurrencies."
      ]
    },
    {
      "cell_type": "code",
      "execution_count": 5,
      "metadata": {
        "id": "QqBtgJxj-ltg"
      },
      "outputs": [],
      "source": [
        "# lets connect with binance exchange\n",
        "binance = ccxt.binance()"
      ]
    },
    {
      "cell_type": "code",
      "execution_count": 6,
      "metadata": {
        "colab": {
          "base_uri": "https://localhost:8080/"
        },
        "id": "1Wqa-Z8b-lwH",
        "outputId": "34be13b1-3efc-4aa5-c5e1-0f2160299a8c"
      },
      "outputs": [
        {
          "output_type": "execute_result",
          "data": {
            "text/plain": [
              "['ETH/BTC',\n",
              " 'LTC/BTC',\n",
              " 'BNB/BTC',\n",
              " 'NEO/BTC',\n",
              " 'QTUM/ETH',\n",
              " 'EOS/ETH',\n",
              " 'SNT/ETH',\n",
              " 'BNT/ETH',\n",
              " 'BCC/BTC',\n",
              " 'GAS/BTC']"
            ]
          },
          "metadata": {},
          "execution_count": 6
        }
      ],
      "source": [
        "# finding all the availabe market or the the currencies in the binance exchange using load_marketss function\n",
        "curr = []\n",
        "currencies = binance.load_markets()\n",
        "for market in currencies:\n",
        "  curr.append(market)\n",
        "\n",
        "# printing first 10 currencies pair\n",
        "curr[:10]"
      ]
    },
    {
      "cell_type": "code",
      "source": [
        "len(curr)"
      ],
      "metadata": {
        "colab": {
          "base_uri": "https://localhost:8080/"
        },
        "id": "Nab9F19deuCx",
        "outputId": "cfcd1299-fcbd-4726-c69b-678684e30ac9"
      },
      "execution_count": 7,
      "outputs": [
        {
          "output_type": "execute_result",
          "data": {
            "text/plain": [
              "2091"
            ]
          },
          "metadata": {},
          "execution_count": 7
        }
      ]
    },
    {
      "cell_type": "code",
      "execution_count": 8,
      "metadata": {
        "colab": {
          "base_uri": "https://localhost:8080/"
        },
        "id": "VIfwRvul61c9",
        "outputId": "2201563b-e3d8-4476-feae-3ac3be9ac2e3"
      },
      "outputs": [
        {
          "output_type": "stream",
          "name": "stderr",
          "text": [
            "100%|██████████| 2091/2091 [03:39<00:00,  9.52it/s]\n"
          ]
        }
      ],
      "source": [
        "# Storing volume information of each currencies in a variaable and store them.\n",
        "Volume = []\n",
        "for cr in tqdm(curr):\n",
        "  btc_ticker = binance.fetch_ticker(cr)\n",
        "  #Gathering the volume information to find the top 10 currency pair.\n",
        "  info = btc_ticker['info']['volume']\n",
        "  Volume.append([info, cr])\n",
        "  # j+=1\n",
        "  # if j>20:\n",
        "  #   break\n"
      ]
    },
    {
      "cell_type": "code",
      "source": [
        "#Sorting the Volume\n",
        "Sort_Volume = sorted(Volume, reverse=True)[:10]\n",
        "Sort_Volume"
      ],
      "metadata": {
        "colab": {
          "base_uri": "https://localhost:8080/"
        },
        "id": "3kODROlSilkz",
        "outputId": "d8ed2d1c-09d9-46ce-dbfa-0f6630971beb"
      },
      "execution_count": 9,
      "outputs": [
        {
          "output_type": "execute_result",
          "data": {
            "text/plain": [
              "[['9989.59100000', 'DCR/USDT'],\n",
              " ['99187.30000000', 'STX/BNB'],\n",
              " ['991765391.00000000', 'SLP/USDT'],\n",
              " ['989511.00000000', 'REQ/BUSD'],\n",
              " ['989155.10000000', 'CELO/BUSD'],\n",
              " ['98877.00000000', 'LRC/ETH'],\n",
              " ['986681.15000000', 'API3/USDT'],\n",
              " ['984891.20000000', 'STEEM/BUSD'],\n",
              " ['98433.80000000', 'MBOX/BTC'],\n",
              " ['9837369.77000000', 'ACA/BUSD']]"
            ]
          },
          "metadata": {},
          "execution_count": 9
        }
      ]
    },
    {
      "cell_type": "code",
      "source": [
        "top10curr_list = []\n",
        "for i in Sort_Volume:\n",
        "  top10curr_list.append(i[1])"
      ],
      "metadata": {
        "id": "clQL-tfUwugq"
      },
      "execution_count": 13,
      "outputs": []
    },
    {
      "cell_type": "code",
      "source": [
        "#printing top 10 currencies in the binance.\n",
        "top10curr_list"
      ],
      "metadata": {
        "colab": {
          "base_uri": "https://localhost:8080/"
        },
        "id": "DPQYz0c4w0ZD",
        "outputId": "b98cb433-4bb4-46a9-d9ce-39bdfb2205d0"
      },
      "execution_count": 39,
      "outputs": [
        {
          "output_type": "execute_result",
          "data": {
            "text/plain": [
              "['DCR/USDT',\n",
              " 'STX/BNB',\n",
              " 'SLP/USDT',\n",
              " 'REQ/BUSD',\n",
              " 'CELO/BUSD',\n",
              " 'LRC/ETH',\n",
              " 'API3/USDT',\n",
              " 'STEEM/BUSD',\n",
              " 'MBOX/BTC',\n",
              " 'ACA/BUSD']"
            ]
          },
          "metadata": {},
          "execution_count": 39
        }
      ]
    },
    {
      "cell_type": "markdown",
      "source": [
        "Now to get the ohlcv value we have to use the fetch_ohlcv functions. It returns value of TIMESTAMP, OPEN, HIGH, LOW, CLOSE, and VOLUME."
      ],
      "metadata": {
        "id": "47zammNo2mUe"
      }
    },
    {
      "cell_type": "code",
      "source": [
        "Total_ohlcv = []\n",
        "for curr in top10curr_list:\n",
        "  Total_ohlcv.append\n",
        "  #looping through all top 10 currencies\n",
        "  ohlcv = binance.fetch_ohlcv(curr,'1d',limit=365)\n",
        "\n",
        "  for row in ohlcv: \n",
        "    #appending all the row of each currencies in the Total_ohlcv\n",
        "    Total_ohlcv.append(row)"
      ],
      "metadata": {
        "id": "1a9qe0mgsYVf"
      },
      "execution_count": 40,
      "outputs": []
    },
    {
      "cell_type": "code",
      "source": [
        "#Converting the list of data into pandas dataframe \n",
        "Columns = ['TIMESTAMP','OPEN','HIGH', 'LOW','CLOSE','VOLUME']"
      ],
      "metadata": {
        "id": "pGdLByNx5eM7"
      },
      "execution_count": 46,
      "outputs": []
    },
    {
      "cell_type": "code",
      "source": [
        "top10_data = pd.DataFrame(Total_ohlcv, columns= Columns)"
      ],
      "metadata": {
        "id": "RrGuzTsnjkt-"
      },
      "execution_count": 47,
      "outputs": []
    },
    {
      "cell_type": "code",
      "source": [
        "top10_data.to_csv('Top10Currencies_data.csv')"
      ],
      "metadata": {
        "id": "R3ErZLVTjkyJ"
      },
      "execution_count": 49,
      "outputs": []
    }
  ],
  "metadata": {
    "colab": {
      "provenance": []
    },
    "kernelspec": {
      "display_name": "Python 3",
      "name": "python3"
    },
    "language_info": {
      "name": "python"
    }
  },
  "nbformat": 4,
  "nbformat_minor": 0
}