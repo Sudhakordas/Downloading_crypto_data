{
  "cells": [
    {
      "cell_type": "markdown",
      "source": [
        "# **Installing and importing necessaries library**"
      ],
      "metadata": {
        "id": "56r98whD8_EH"
      }
    },
    {
      "cell_type": "code",
      "source": [
        "#installing the ccxt library \n",
        "\n",
        "%%capture\n",
        "!pip install ccxt\n",
        "!pip install tqdm"
      ],
      "metadata": {
        "id": "xT2uIQnl8_dV"
      },
      "execution_count": 1,
      "outputs": []
    },
    {
      "cell_type": "code",
      "execution_count": 2,
      "metadata": {
        "id": "jWdjQNKk_OHh"
      },
      "outputs": [],
      "source": [
        "#Importin necessary libraries\n",
        "import ccxt\n",
        "import tqdm\n",
        "from tqdm import tqdm\n",
        "import pandas as pd"
      ]
    },
    {
      "cell_type": "code",
      "execution_count": 3,
      "metadata": {
        "colab": {
          "base_uri": "https://localhost:8080/"
        },
        "id": "VrQnjBJf-ln1",
        "outputId": "42bd6e7b-ab74-472a-822f-12c7b7a59246"
      },
      "outputs": [
        {
          "output_type": "execute_result",
          "data": {
            "text/plain": [
              "['AccountNotEnabled',\n",
              " 'AccountSuspended',\n",
              " 'AddressPending',\n",
              " 'ArgumentsRequired',\n",
              " 'AuthenticationError',\n",
              " 'BadRequest',\n",
              " 'BadResponse',\n",
              " 'BadSymbol',\n",
              " 'BaseError',\n",
              " 'CancelPending']"
            ]
          },
          "metadata": {},
          "execution_count": 3
        }
      ],
      "source": [
        "# Printing list of functions are avaiable in the ccxt library\n",
        "dir = dir(ccxt)\n",
        "# printing 1st 10 functions \n",
        "dir[:10]"
      ]
    },
    {
      "cell_type": "markdown",
      "metadata": {
        "id": "_zDTuSTWIHNF"
      },
      "source": [
        "# **What are Cryptocurrency Exchanges?**\n",
        "\n",
        "In order to start buying and selling cryptocurrencies and other digital assets, the most common way is to transact with Crypto Exchanges. Cryptocurrency exchanges are privately-owned platforms that facilitate the trading of cryptocurrencies for other crypto assets, including digital and fiat currencies and NFTs."
      ]
    },
    {
      "cell_type": "code",
      "execution_count": 4,
      "metadata": {
        "colab": {
          "base_uri": "https://localhost:8080/"
        },
        "id": "LS8DDk8R-lqJ",
        "outputId": "decaec8f-0eb5-49d5-c693-1c2906d41605"
      },
      "outputs": [
        {
          "output_type": "execute_result",
          "data": {
            "text/plain": [
              "['aax',\n",
              " 'alpaca',\n",
              " 'ascendex',\n",
              " 'bequant',\n",
              " 'bibox',\n",
              " 'bigone',\n",
              " 'binance',\n",
              " 'binancecoinm',\n",
              " 'binanceus',\n",
              " 'binanceusdm']"
            ]
          },
          "metadata": {},
          "execution_count": 4
        }
      ],
      "source": [
        "# Printing types of exchanges support in ccxt.\n",
        "exchanges = ccxt.exchanges\n",
        "#printing first 10 exchanges\n",
        "exchanges[:10]"
      ]
    },
    {
      "cell_type": "markdown",
      "metadata": {
        "id": "l3OHJW2eK9jq"
      },
      "source": [
        "# **What is a Binance exchange?**\n",
        "\n",
        "Binance is an online exchange where users can trade cryptocurrencies. It supports most commonly traded cryptocurrencies. Binance provides a crypto wallet for traders to store their electronic funds. The exchange also has supporting services for users to earn interest or transact using cryptocurrencies."
      ]
    },
    {
      "cell_type": "code",
      "execution_count": 5,
      "metadata": {
        "id": "QqBtgJxj-ltg"
      },
      "outputs": [],
      "source": [
        "# lets connect with binance exchange\n",
        "binance = ccxt.binance()"
      ]
    },
    {
      "cell_type": "code",
      "execution_count": 6,
      "metadata": {
        "colab": {
          "base_uri": "https://localhost:8080/"
        },
        "id": "1Wqa-Z8b-lwH",
        "outputId": "eb938ab8-cf67-424c-df0d-b5c2946fc472"
      },
      "outputs": [
        {
          "output_type": "execute_result",
          "data": {
            "text/plain": [
              "['ETH/BTC',\n",
              " 'LTC/BTC',\n",
              " 'BNB/BTC',\n",
              " 'NEO/BTC',\n",
              " 'QTUM/ETH',\n",
              " 'EOS/ETH',\n",
              " 'SNT/ETH',\n",
              " 'BNT/ETH',\n",
              " 'BCC/BTC',\n",
              " 'GAS/BTC']"
            ]
          },
          "metadata": {},
          "execution_count": 6
        }
      ],
      "source": [
        "# finding all the availabe market or the the currencies in the binance exchange using load_marketss function\n",
        "curr = []\n",
        "currencies = binance.load_markets()\n",
        "for market in currencies:\n",
        "  curr.append(market)\n",
        "\n",
        "# printing first 10 currencies pair\n",
        "curr[:10]"
      ]
    },
    {
      "cell_type": "code",
      "source": [
        "print('Total currencies pair avaiable in Binance exchange: ', len(curr))"
      ],
      "metadata": {
        "colab": {
          "base_uri": "https://localhost:8080/"
        },
        "id": "Nab9F19deuCx",
        "outputId": "93ddae41-9497-4c63-f20d-eed3da2b9a47"
      },
      "execution_count": 7,
      "outputs": [
        {
          "output_type": "stream",
          "name": "stdout",
          "text": [
            "Total currencies pair avaiable in Binance exchange:  2091\n"
          ]
        }
      ]
    },
    {
      "cell_type": "markdown",
      "source": [
        "# Downloading Crypto data"
      ],
      "metadata": {
        "id": "jGCyv7gVABYX"
      }
    },
    {
      "cell_type": "code",
      "execution_count": 8,
      "metadata": {
        "colab": {
          "base_uri": "https://localhost:8080/"
        },
        "id": "VIfwRvul61c9",
        "outputId": "642795fd-6565-46b3-b080-66134cde8d99"
      },
      "outputs": [
        {
          "output_type": "stream",
          "name": "stderr",
          "text": [
            "100%|██████████| 2091/2091 [03:34<00:00,  9.73it/s]\n"
          ]
        }
      ],
      "source": [
        "# Storing volume information of each currencies in a variaable and store them.\n",
        "Volume = []\n",
        "for cr in tqdm(curr):\n",
        "  btc_ticker = binance.fetch_ticker(cr)\n",
        "  #Gathering the volume information to find the top 10 currency pair.\n",
        "  info = btc_ticker['info']['volume']\n",
        "  Volume.append([info, cr])\n",
        "  # j+=1\n",
        "  # if j>20:\n",
        "  #   break\n"
      ]
    },
    {
      "cell_type": "code",
      "source": [
        "#Sorting the Volume\n",
        "Sort_Volume = sorted(Volume, reverse=True)[:10]\n",
        "Sort_Volume"
      ],
      "metadata": {
        "colab": {
          "base_uri": "https://localhost:8080/"
        },
        "id": "3kODROlSilkz",
        "outputId": "bd8ee40d-175f-4d5c-957a-bfcc45f8d259"
      },
      "execution_count": 9,
      "outputs": [
        {
          "output_type": "execute_result",
          "data": {
            "text/plain": [
              "[['9998437.00000000', 'SYS/BUSD'],\n",
              " ['999448.85000000', 'AVAX/BUSD'],\n",
              " ['996417.80000000', 'AUDIO/BTC'],\n",
              " ['996227.00000000', 'DATA/ETH'],\n",
              " ['99607060.00000000', 'BETA/USDT'],\n",
              " ['99588.00000000', 'IOTA/ETH'],\n",
              " ['994316875.00000000', 'AKRO/BUSD'],\n",
              " ['994076.00000000', 'CTSI/BNB'],\n",
              " ['9893670.00000000', 'BETA/BTC'],\n",
              " ['985265138.00000000', 'EPX/USDT']]"
            ]
          },
          "metadata": {},
          "execution_count": 9
        }
      ]
    },
    {
      "cell_type": "code",
      "source": [
        "top10curr_list = []\n",
        "for i in Sort_Volume:\n",
        "  top10curr_list.append(i[1])"
      ],
      "metadata": {
        "id": "clQL-tfUwugq"
      },
      "execution_count": 10,
      "outputs": []
    },
    {
      "cell_type": "code",
      "source": [
        "#printing top 10 currencies in the binance.\n",
        "top10curr_list"
      ],
      "metadata": {
        "colab": {
          "base_uri": "https://localhost:8080/"
        },
        "id": "DPQYz0c4w0ZD",
        "outputId": "c5051ed6-4410-42c3-fff9-d90e17eb7aeb"
      },
      "execution_count": 11,
      "outputs": [
        {
          "output_type": "execute_result",
          "data": {
            "text/plain": [
              "['SYS/BUSD',\n",
              " 'AVAX/BUSD',\n",
              " 'AUDIO/BTC',\n",
              " 'DATA/ETH',\n",
              " 'BETA/USDT',\n",
              " 'IOTA/ETH',\n",
              " 'AKRO/BUSD',\n",
              " 'CTSI/BNB',\n",
              " 'BETA/BTC',\n",
              " 'EPX/USDT']"
            ]
          },
          "metadata": {},
          "execution_count": 11
        }
      ]
    },
    {
      "cell_type": "markdown",
      "source": [
        "Now to get the ohlcv value we have to use the fetch_ohlcv functions. It returns value of TIMESTAMP, OPEN, HIGH, LOW, CLOSE, and VOLUME."
      ],
      "metadata": {
        "id": "47zammNo2mUe"
      }
    },
    {
      "cell_type": "code",
      "source": [
        "Total_ohlcv = []\n",
        "for curr in top10curr_list:\n",
        "  Total_ohlcv.append\n",
        "  #looping through all top 10 currencies\n",
        "  ohlcv = binance.fetch_ohlcv(curr,'1d',limit=365)\n",
        "\n",
        "  for row in ohlcv: \n",
        "    #appending all the row of each currencies in the Total_ohlcv\n",
        "    Total_ohlcv.append(row)"
      ],
      "metadata": {
        "id": "1a9qe0mgsYVf"
      },
      "execution_count": 12,
      "outputs": []
    },
    {
      "cell_type": "markdown",
      "source": [
        "# **Converting into CSV file**"
      ],
      "metadata": {
        "id": "TI4gJR319Y9y"
      }
    },
    {
      "cell_type": "code",
      "source": [
        "#Converting the list of data into pandas dataframe \n",
        "Columns = ['TIMESTAMP','OPEN','HIGH', 'LOW','CLOSE','VOLUME']"
      ],
      "metadata": {
        "id": "pGdLByNx5eM7"
      },
      "execution_count": 13,
      "outputs": []
    },
    {
      "cell_type": "code",
      "source": [
        "top10_data = pd.DataFrame(Total_ohlcv, columns= Columns)"
      ],
      "metadata": {
        "id": "RrGuzTsnjkt-"
      },
      "execution_count": 14,
      "outputs": []
    },
    {
      "cell_type": "code",
      "source": [
        "top10_data.to_csv('Top10Currencies_data.csv')"
      ],
      "metadata": {
        "id": "R3ErZLVTjkyJ"
      },
      "execution_count": 15,
      "outputs": []
    }
  ],
  "metadata": {
    "colab": {
      "provenance": []
    },
    "kernelspec": {
      "display_name": "Python 3",
      "name": "python3"
    },
    "language_info": {
      "name": "python"
    }
  },
  "nbformat": 4,
  "nbformat_minor": 0
}